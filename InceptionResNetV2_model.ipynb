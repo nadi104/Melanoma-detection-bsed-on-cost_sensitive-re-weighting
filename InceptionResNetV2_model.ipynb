{
 "cells": [
  {
   "cell_type": "code",
   "execution_count": 1,
   "id": "035bd0f1-889e-448a-9c83-dabfd48770e0",
   "metadata": {},
   "outputs": [],
   "source": [
    "import os\n",
    "import numpy as np\n",
    "import pandas as pd\n",
    "import matplotlib.pyplot as plt"
   ]
  },
  {
   "cell_type": "code",
   "execution_count": 2,
   "id": "e21a5f46-d063-4558-a9be-9c4203ea0b2c",
   "metadata": {},
   "outputs": [
    {
     "data": {
      "text/html": [
       "<div>\n",
       "<style scoped>\n",
       "    .dataframe tbody tr th:only-of-type {\n",
       "        vertical-align: middle;\n",
       "    }\n",
       "\n",
       "    .dataframe tbody tr th {\n",
       "        vertical-align: top;\n",
       "    }\n",
       "\n",
       "    .dataframe thead th {\n",
       "        text-align: right;\n",
       "    }\n",
       "</style>\n",
       "<table border=\"1\" class=\"dataframe\">\n",
       "  <thead>\n",
       "    <tr style=\"text-align: right;\">\n",
       "      <th></th>\n",
       "      <th>image_name</th>\n",
       "      <th>patient_id</th>\n",
       "      <th>sex</th>\n",
       "      <th>age_approx</th>\n",
       "      <th>anatom_site_general_challenge</th>\n",
       "      <th>diagnosis</th>\n",
       "      <th>benign_malignant</th>\n",
       "      <th>target</th>\n",
       "    </tr>\n",
       "  </thead>\n",
       "  <tbody>\n",
       "    <tr>\n",
       "      <th>0</th>\n",
       "      <td>ISIC_2637011</td>\n",
       "      <td>IP_7279968</td>\n",
       "      <td>male</td>\n",
       "      <td>45.0</td>\n",
       "      <td>head/neck</td>\n",
       "      <td>unknown</td>\n",
       "      <td>benign</td>\n",
       "      <td>0</td>\n",
       "    </tr>\n",
       "    <tr>\n",
       "      <th>1</th>\n",
       "      <td>ISIC_0015719</td>\n",
       "      <td>IP_3075186</td>\n",
       "      <td>female</td>\n",
       "      <td>45.0</td>\n",
       "      <td>upper extremity</td>\n",
       "      <td>unknown</td>\n",
       "      <td>benign</td>\n",
       "      <td>0</td>\n",
       "    </tr>\n",
       "    <tr>\n",
       "      <th>2</th>\n",
       "      <td>ISIC_0052212</td>\n",
       "      <td>IP_2842074</td>\n",
       "      <td>female</td>\n",
       "      <td>50.0</td>\n",
       "      <td>lower extremity</td>\n",
       "      <td>nevus</td>\n",
       "      <td>benign</td>\n",
       "      <td>0</td>\n",
       "    </tr>\n",
       "    <tr>\n",
       "      <th>3</th>\n",
       "      <td>ISIC_0068279</td>\n",
       "      <td>IP_6890425</td>\n",
       "      <td>female</td>\n",
       "      <td>45.0</td>\n",
       "      <td>head/neck</td>\n",
       "      <td>unknown</td>\n",
       "      <td>benign</td>\n",
       "      <td>0</td>\n",
       "    </tr>\n",
       "    <tr>\n",
       "      <th>4</th>\n",
       "      <td>ISIC_0074268</td>\n",
       "      <td>IP_8723313</td>\n",
       "      <td>female</td>\n",
       "      <td>55.0</td>\n",
       "      <td>upper extremity</td>\n",
       "      <td>unknown</td>\n",
       "      <td>benign</td>\n",
       "      <td>0</td>\n",
       "    </tr>\n",
       "    <tr>\n",
       "      <th>5</th>\n",
       "      <td>ISIC_0074311</td>\n",
       "      <td>IP_2950485</td>\n",
       "      <td>female</td>\n",
       "      <td>40.0</td>\n",
       "      <td>lower extremity</td>\n",
       "      <td>unknown</td>\n",
       "      <td>benign</td>\n",
       "      <td>0</td>\n",
       "    </tr>\n",
       "    <tr>\n",
       "      <th>6</th>\n",
       "      <td>ISIC_0074542</td>\n",
       "      <td>IP_4698288</td>\n",
       "      <td>male</td>\n",
       "      <td>25.0</td>\n",
       "      <td>lower extremity</td>\n",
       "      <td>unknown</td>\n",
       "      <td>benign</td>\n",
       "      <td>0</td>\n",
       "    </tr>\n",
       "  </tbody>\n",
       "</table>\n",
       "</div>"
      ],
      "text/plain": [
       "     image_name  patient_id     sex  age_approx anatom_site_general_challenge  \\\n",
       "0  ISIC_2637011  IP_7279968    male        45.0                     head/neck   \n",
       "1  ISIC_0015719  IP_3075186  female        45.0               upper extremity   \n",
       "2  ISIC_0052212  IP_2842074  female        50.0               lower extremity   \n",
       "3  ISIC_0068279  IP_6890425  female        45.0                     head/neck   \n",
       "4  ISIC_0074268  IP_8723313  female        55.0               upper extremity   \n",
       "5  ISIC_0074311  IP_2950485  female        40.0               lower extremity   \n",
       "6  ISIC_0074542  IP_4698288    male        25.0               lower extremity   \n",
       "\n",
       "  diagnosis benign_malignant  target  \n",
       "0   unknown           benign       0  \n",
       "1   unknown           benign       0  \n",
       "2     nevus           benign       0  \n",
       "3   unknown           benign       0  \n",
       "4   unknown           benign       0  \n",
       "5   unknown           benign       0  \n",
       "6   unknown           benign       0  "
      ]
     },
     "execution_count": 2,
     "metadata": {},
     "output_type": "execute_result"
    }
   ],
   "source": [
    "training_csv='./melanoma-image-data/train.csv'\n",
    "test_csv='./melanoma-image-data/test.csv'\n",
    "train_dataframe=pd.read_csv(training_csv)\n",
    "test_dataframe=pd.read_csv(test_csv)\n",
    "train_dataframe.head(7)"
   ]
  },
  {
   "cell_type": "code",
   "execution_count": 3,
   "id": "8e24947b-96dd-45bc-ada2-5aaef5fa6527",
   "metadata": {},
   "outputs": [
    {
     "data": {
      "text/plain": [
       "0    32542\n",
       "1      584\n",
       "Name: target, dtype: int64"
      ]
     },
     "execution_count": 3,
     "metadata": {},
     "output_type": "execute_result"
    }
   ],
   "source": [
    "train_dataframe['target'].value_counts()"
   ]
  },
  {
   "cell_type": "code",
   "execution_count": 4,
   "id": "dfea4acc-48e1-49ec-b3ac-fb16d39dd415",
   "metadata": {},
   "outputs": [
    {
     "name": "stdout",
     "output_type": "stream",
     "text": [
      "32542\n",
      "584\n"
     ]
    }
   ],
   "source": [
    "benign_data=train_dataframe[train_dataframe['target']==0]\n",
    "maligant_data=train_dataframe[train_dataframe['target']==1]\n",
    "\n",
    "benign_data=benign_data.reset_index()\n",
    "maligant_data=maligant_data.reset_index()\n",
    "\n",
    "print(benign_data.shape[0])\n",
    "print(maligant_data.shape[0])"
   ]
  },
  {
   "cell_type": "code",
   "execution_count": 5,
   "id": "6220c72e-0477-457f-a5e3-1f3861ef4671",
   "metadata": {},
   "outputs": [
    {
     "name": "stdout",
     "output_type": "stream",
     "text": [
      "(32542, 2)\n",
      "(584, 2)\n"
     ]
    },
    {
     "data": {
      "text/plain": [
       "(33126, 2)"
      ]
     },
     "execution_count": 5,
     "metadata": {},
     "output_type": "execute_result"
    }
   ],
   "source": [
    "#train_bening_data\n",
    "train_benign_dir='./melanoma-image-data/train/train/benign/'\n",
    "data_benign = []\n",
    "labels_benign =[]\n",
    "\n",
    "\n",
    "train_maligant_dir='./melanoma-image-data/train/train/malignant/'\n",
    "data_maligant = []\n",
    "labels_maligant =[]\n",
    "\n",
    "for i in range(benign_data.shape[0]):\n",
    "    data_benign.append(train_benign_dir+benign_data['image_name'].iloc[i]+'.jpg')\n",
    "    labels_benign.append(benign_data['target'].iloc[i])\n",
    "df_benign=pd.DataFrame(data_benign)\n",
    "df_benign.columns=['images']\n",
    "df_benign['target']=labels_benign\n",
    "\n",
    "\n",
    "for i in range(maligant_data.shape[0]):\n",
    "    data_maligant.append(train_maligant_dir+maligant_data['image_name'].iloc[i]+'.jpg')\n",
    "    labels_maligant.append(maligant_data['target'].iloc[i])\n",
    "df_maligant=pd.DataFrame(data_maligant)\n",
    "df_maligant.columns=['images']\n",
    "df_maligant['target']=labels_maligant\n",
    "\n",
    "print(df_benign.shape)\n",
    "print(df_maligant.shape)\n",
    "\n",
    "df=pd.concat([df_benign,df_maligant])\n",
    "df.shape"
   ]
  },
  {
   "cell_type": "code",
   "execution_count": 6,
   "id": "d7a92da0-2b01-4b22-8be1-62e8007a1cf6",
   "metadata": {},
   "outputs": [
    {
     "data": {
      "text/html": [
       "<div>\n",
       "<style scoped>\n",
       "    .dataframe tbody tr th:only-of-type {\n",
       "        vertical-align: middle;\n",
       "    }\n",
       "\n",
       "    .dataframe tbody tr th {\n",
       "        vertical-align: top;\n",
       "    }\n",
       "\n",
       "    .dataframe thead th {\n",
       "        text-align: right;\n",
       "    }\n",
       "</style>\n",
       "<table border=\"1\" class=\"dataframe\">\n",
       "  <thead>\n",
       "    <tr style=\"text-align: right;\">\n",
       "      <th></th>\n",
       "      <th>images</th>\n",
       "    </tr>\n",
       "  </thead>\n",
       "  <tbody>\n",
       "    <tr>\n",
       "      <th>0</th>\n",
       "      <td>./melanoma-image-data/test/test/unkown/ISIC_00...</td>\n",
       "    </tr>\n",
       "    <tr>\n",
       "      <th>1</th>\n",
       "      <td>./melanoma-image-data/test/test/unkown/ISIC_00...</td>\n",
       "    </tr>\n",
       "    <tr>\n",
       "      <th>2</th>\n",
       "      <td>./melanoma-image-data/test/test/unkown/ISIC_00...</td>\n",
       "    </tr>\n",
       "    <tr>\n",
       "      <th>3</th>\n",
       "      <td>./melanoma-image-data/test/test/unkown/ISIC_00...</td>\n",
       "    </tr>\n",
       "    <tr>\n",
       "      <th>4</th>\n",
       "      <td>./melanoma-image-data/test/test/unkown/ISIC_00...</td>\n",
       "    </tr>\n",
       "    <tr>\n",
       "      <th>...</th>\n",
       "      <td>...</td>\n",
       "    </tr>\n",
       "    <tr>\n",
       "      <th>10977</th>\n",
       "      <td>./melanoma-image-data/test/test/unkown/ISIC_99...</td>\n",
       "    </tr>\n",
       "    <tr>\n",
       "      <th>10978</th>\n",
       "      <td>./melanoma-image-data/test/test/unkown/ISIC_99...</td>\n",
       "    </tr>\n",
       "    <tr>\n",
       "      <th>10979</th>\n",
       "      <td>./melanoma-image-data/test/test/unkown/ISIC_99...</td>\n",
       "    </tr>\n",
       "    <tr>\n",
       "      <th>10980</th>\n",
       "      <td>./melanoma-image-data/test/test/unkown/ISIC_99...</td>\n",
       "    </tr>\n",
       "    <tr>\n",
       "      <th>10981</th>\n",
       "      <td>./melanoma-image-data/test/test/unkown/ISIC_99...</td>\n",
       "    </tr>\n",
       "  </tbody>\n",
       "</table>\n",
       "<p>10982 rows × 1 columns</p>\n",
       "</div>"
      ],
      "text/plain": [
       "                                                  images\n",
       "0      ./melanoma-image-data/test/test/unkown/ISIC_00...\n",
       "1      ./melanoma-image-data/test/test/unkown/ISIC_00...\n",
       "2      ./melanoma-image-data/test/test/unkown/ISIC_00...\n",
       "3      ./melanoma-image-data/test/test/unkown/ISIC_00...\n",
       "4      ./melanoma-image-data/test/test/unkown/ISIC_00...\n",
       "...                                                  ...\n",
       "10977  ./melanoma-image-data/test/test/unkown/ISIC_99...\n",
       "10978  ./melanoma-image-data/test/test/unkown/ISIC_99...\n",
       "10979  ./melanoma-image-data/test/test/unkown/ISIC_99...\n",
       "10980  ./melanoma-image-data/test/test/unkown/ISIC_99...\n",
       "10981  ./melanoma-image-data/test/test/unkown/ISIC_99...\n",
       "\n",
       "[10982 rows x 1 columns]"
      ]
     },
     "execution_count": 6,
     "metadata": {},
     "output_type": "execute_result"
    }
   ],
   "source": [
    "test_dir='./melanoma-image-data/test/test/unkown/'\n",
    "test_data = []\n",
    "for i in range(test_dataframe.shape[0]):\n",
    "    test_data.append(test_dir + test_dataframe['image_name'].iloc[i]+'.jpg')\n",
    "df_test_kaggle=pd.DataFrame(test_data)\n",
    "df_test_kaggle.columns=['images']\n",
    "df_test_kaggle.shape\n",
    "df_test_kaggle"
   ]
  },
  {
   "cell_type": "code",
   "execution_count": 7,
   "id": "a3e89f7b-1d14-4d2b-bbba-ab7ac9b8b675",
   "metadata": {},
   "outputs": [],
   "source": [
    "from sklearn.model_selection import train_test_split\n",
    "x_train,x_val,y_train,y_val=train_test_split(df['images'],df['target'],test_size=0.2,random_state=42,stratify=df['target'])\n",
    "\n",
    "train_gen = pd.DataFrame({'image_dir': x_train, 'target': y_train})\n",
    "val_gen = pd.DataFrame({'image_dir': x_val, 'target': y_val})"
   ]
  },
  {
   "cell_type": "code",
   "execution_count": 8,
   "id": "71734452-8f97-466d-87f8-b9ba171a355a",
   "metadata": {},
   "outputs": [],
   "source": [
    "from sklearn.model_selection import train_test_split\n",
    "x_train,x_test,y_train,y_test=train_test_split(train_gen['image_dir'],train_gen['target'],test_size=0.1,random_state=42,stratify=train_gen['target'])\n",
    "\n",
    "y_test_conf=y_test\n",
    "\n",
    "train_gen = pd.DataFrame({'image_dir': x_train, 'target': y_train})\n",
    "test_gen = pd.DataFrame({'image_dir': x_test, 'target': y_test})"
   ]
  },
  {
   "cell_type": "code",
   "execution_count": 9,
   "id": "1246e7bb-2bc6-4f34-8fd9-7ddc896a3c1d",
   "metadata": {},
   "outputs": [
    {
     "name": "stderr",
     "output_type": "stream",
     "text": [
      "2023-03-20 01:01:45.174332: I tensorflow/core/platform/cpu_feature_guard.cc:193] This TensorFlow binary is optimized with oneAPI Deep Neural Network Library (oneDNN) to use the following CPU instructions in performance-critical operations:  AVX2 FMA\n",
      "To enable them in other operations, rebuild TensorFlow with the appropriate compiler flags.\n",
      "2023-03-20 01:01:48.691087: W tensorflow/compiler/xla/stream_executor/platform/default/dso_loader.cc:64] Could not load dynamic library 'libcudart.so.11.0'; dlerror: libcudart.so.11.0: cannot open shared object file: No such file or directory\n",
      "2023-03-20 01:01:48.691126: I tensorflow/compiler/xla/stream_executor/cuda/cudart_stub.cc:29] Ignore above cudart dlerror if you do not have a GPU set up on your machine.\n",
      "2023-03-20 01:01:56.191233: W tensorflow/compiler/xla/stream_executor/platform/default/dso_loader.cc:64] Could not load dynamic library 'libnvinfer.so.7'; dlerror: libnvinfer.so.7: cannot open shared object file: No such file or directory\n",
      "2023-03-20 01:01:56.192578: W tensorflow/compiler/xla/stream_executor/platform/default/dso_loader.cc:64] Could not load dynamic library 'libnvinfer_plugin.so.7'; dlerror: libnvinfer_plugin.so.7: cannot open shared object file: No such file or directory\n",
      "2023-03-20 01:01:56.192599: W tensorflow/compiler/tf2tensorrt/utils/py_utils.cc:38] TF-TRT Warning: Cannot dlopen some TensorRT libraries. If you would like to use Nvidia GPU with TensorRT, please make sure the missing libraries mentioned above are installed properly.\n"
     ]
    }
   ],
   "source": [
    "from keras.layers import Input,Lambda,Dense,Flatten,Conv2D, MaxPooling2D, Dropout\n",
    "from keras.applications.inception_resnet_v2 import InceptionResNetV2,preprocess_input\n",
    "from keras.preprocessing import image\n",
    "from keras.preprocessing.image import ImageDataGenerator\n",
    "from keras.models import Sequential\n",
    "from glob import glob\n",
    "\n",
    "from keras.layers import Dense, Flatten\n",
    "from tensorflow.keras import layers\n",
    "from keras.metrics import AUC\n",
    "from keras.activations import sigmoid\n",
    "from keras.models import Model,load_model\n",
    "\n",
    "from keras.optimizers import Adam\n",
    "import tensorflow as tf\n",
    "\n",
    "\n",
    "from tensorflow.python.keras import backend as K\n",
    "from livelossplot import PlotLossesKeras\n"
   ]
  },
  {
   "cell_type": "code",
   "execution_count": 10,
   "id": "953e6490-169a-4fc0-82de-03fedbd0b6aa",
   "metadata": {},
   "outputs": [
    {
     "name": "stdout",
     "output_type": "stream",
     "text": [
      "Found 23850 validated image filenames.\n",
      "Found 6626 validated image filenames.\n"
     ]
    }
   ],
   "source": [
    "train_datagen = ImageDataGenerator(preprocessing_function=preprocess_input,\n",
    "                                   rotation_range=45,\n",
    "                                   width_shift_range=0.2,\n",
    "                                   height_shift_range=0.2,\n",
    "                                   zoom_range = 0.2,\n",
    "                                   fill_mode ='nearest',\n",
    "                                   horizontal_flip=True)\n",
    "val_datagen=ImageDataGenerator(preprocessing_function =preprocess_input)\n",
    "test_datagen =ImageDataGenerator(preprocessing_function =preprocess_input)\n",
    "\n",
    "\n",
    "train_generator = train_datagen.flow_from_dataframe(\n",
    "    train_gen,\n",
    "    x_col='image_dir',\n",
    "    y_col='target',\n",
    "    target_size=(224, 224),\n",
    "    batch_size=64,\n",
    "    class_mode='raw')\n",
    "\n",
    "validation_generator = val_datagen.flow_from_dataframe(\n",
    "    val_gen,\n",
    "    x_col='image_dir',\n",
    "    y_col='target',\n",
    "    target_size=(224, 224),\n",
    "    batch_size=64,\n",
    "    class_mode='raw')\n",
    "\n",
    "\n"
   ]
  },
  {
   "cell_type": "code",
   "execution_count": 11,
   "id": "057961a3-0d13-417e-af39-60c85e256ce7",
   "metadata": {},
   "outputs": [
    {
     "name": "stderr",
     "output_type": "stream",
     "text": [
      "2023-03-20 01:02:08.928540: W tensorflow/compiler/xla/stream_executor/platform/default/dso_loader.cc:64] Could not load dynamic library 'libcuda.so.1'; dlerror: libcuda.so.1: cannot open shared object file: No such file or directory\n",
      "2023-03-20 01:02:08.928626: W tensorflow/compiler/xla/stream_executor/cuda/cuda_driver.cc:265] failed call to cuInit: UNKNOWN ERROR (303)\n",
      "2023-03-20 01:02:08.928696: I tensorflow/compiler/xla/stream_executor/cuda/cuda_diagnostics.cc:156] kernel driver does not appear to be running on this host (skin-cancer-v2): /proc/driver/nvidia/version does not exist\n",
      "2023-03-20 01:02:08.936679: I tensorflow/core/platform/cpu_feature_guard.cc:193] This TensorFlow binary is optimized with oneAPI Deep Neural Network Library (oneDNN) to use the following CPU instructions in performance-critical operations:  AVX2 FMA\n",
      "To enable them in other operations, rebuild TensorFlow with the appropriate compiler flags.\n"
     ]
    }
   ],
   "source": [
    "\n",
    "base_model= InceptionResNetV2(weights='imagenet',input_shape=(224,224,3),include_top=False)\n",
    "\n",
    "for layer in base_model.layers:\n",
    "    layer.trainable = False\n",
    "    \n",
    "layer_top=Flatten()(base_model.output)\n",
    "layer_top=layers.Dense(1, activation = 'sigmoid')(layer_top)\n",
    "\n",
    "model =Model(inputs=base_model.input,outputs=layer_top)\n",
    "#model.summary()"
   ]
  },
  {
   "cell_type": "code",
   "execution_count": 13,
   "id": "30354a9c-2639-4e52-a69c-b2384d31ce8b",
   "metadata": {},
   "outputs": [
    {
     "name": "stdout",
     "output_type": "stream",
     "text": [
      "0.5108978868851661\n",
      "1.4891021131148336\n"
     ]
    }
   ],
   "source": [
    "def calculate_alpha(beta = 0.999):\n",
    "     bening_sample=[23430,420]\n",
    "     effective_num=1-np.power(beta,bening_sample)\n",
    "     weights=(1.0-beta)/np.array(effective_num)\n",
    "     weights=weights/np.sum(weights)*2\n",
    "     return weights\n",
    "\n",
    "alpha=calculate_alpha()\n",
    "print(alpha[0])\n",
    "print(alpha[1])"
   ]
  },
  {
   "cell_type": "code",
   "execution_count": 14,
   "id": "360684b5-4a07-4e96-b465-eb1181d0166f",
   "metadata": {},
   "outputs": [
    {
     "name": "stderr",
     "output_type": "stream",
     "text": [
      "/opt/conda/lib/python3.7/site-packages/keras/optimizers/optimizer_v2/adam.py:117: UserWarning: The `lr` argument is deprecated, use `learning_rate` instead.\n",
      "  super().__init__(name, **kwargs)\n"
     ]
    }
   ],
   "source": [
    "opt = Adam(lr=0.0001)\n",
    "auc = tf.keras.metrics.AUC()\n",
    "\n",
    "model.compile(loss=tf.keras.losses.BinaryFocalCrossentropy(\n",
    "    alpha=alpha[0],\n",
    "    gamma=1),\n",
    "    optimizer = opt,\n",
    "    metrics =[auc])"
   ]
  },
  {
   "cell_type": "code",
   "execution_count": 17,
   "id": "9edcc6a2-aab9-408f-8781-7b036c14b23d",
   "metadata": {},
   "outputs": [
    {
     "name": "stderr",
     "output_type": "stream",
     "text": [
      "/opt/conda/lib/python3.7/site-packages/ipykernel_launcher.py:26: UserWarning: `Model.fit_generator` is deprecated and will be removed in a future version. Please use `Model.fit`, which supports generators.\n"
     ]
    },
    {
     "name": "stdout",
     "output_type": "stream",
     "text": [
      "Epoch 1/30\n",
      "128/128 [==============================] - 1550s 12s/step - loss: 0.0926 - auc: 0.5119 - val_loss: 0.0628 - val_auc: 0.6342\n",
      "Epoch 2/30\n",
      "128/128 [==============================] - 1377s 11s/step - loss: 0.0524 - auc: 0.6541 - val_loss: 0.0578 - val_auc: 0.7230\n",
      "Epoch 3/30\n",
      "128/128 [==============================] - 1333s 10s/step - loss: 0.0610 - auc: 0.6906 - val_loss: 0.0508 - val_auc: 0.7088\n",
      "Epoch 4/30\n",
      "128/128 [==============================] - 1164s 9s/step - loss: 0.0541 - auc: 0.7150 - val_loss: 0.0538 - val_auc: 0.7193\n",
      "Epoch 5/30\n",
      "128/128 [==============================] - 1133s 9s/step - loss: 0.0617 - auc: 0.6845 - val_loss: 0.0806 - val_auc: 0.6671\n",
      "Epoch 6/30\n",
      "128/128 [==============================] - 1114s 9s/step - loss: 0.0530 - auc: 0.7640 - val_loss: 0.0513 - val_auc: 0.7272\n",
      "Epoch 7/30\n",
      "128/128 [==============================] - 1089s 9s/step - loss: 0.0588 - auc: 0.7069 - val_loss: 0.0604 - val_auc: 0.7082\n",
      "Epoch 8/30\n",
      "128/128 [==============================] - 1086s 8s/step - loss: 0.0560 - auc: 0.7533 - val_loss: 0.0466 - val_auc: 0.8057\n",
      "Epoch 9/30\n",
      "128/128 [==============================] - 1080s 8s/step - loss: 0.0496 - auc: 0.7550 - val_loss: 0.0559 - val_auc: 0.7195\n",
      "Training completed in time:  3:02:10.928821\n"
     ]
    }
   ],
   "source": [
    "from datetime import datetime\n",
    "from keras.callbacks import ModelCheckpoint,EarlyStopping\n",
    "\n",
    "\n",
    "\n",
    "mc = ModelCheckpoint(filepath='InceptionResNetV2_focalloss_AUC_model1.h5',\n",
    "                     monitor='auc',  # even use the generated handle for monitoring the training AUC\n",
    "                     save_best_only=True,\n",
    "                     mode='max')\n",
    "\n",
    "#Early stopping\n",
    "es = EarlyStopping(monitor = 'auc', patience = 3, mode='max',min_delta = 0.01)\n",
    "\n",
    "callbacks = [mc,es]\n",
    "\n",
    "start = datetime.now()\n",
    "\n",
    "\n",
    "model.fit_generator(\n",
    "    train_generator,\n",
    "    steps_per_epoch=128,\n",
    "    epochs=30,\n",
    "    validation_data=validation_generator,\n",
    "    callbacks=callbacks,\n",
    "    validation_steps=32,\n",
    "     verbose=1\n",
    "\n",
    ")\n",
    "\n",
    "\n",
    "\n",
    "duration = datetime.now() - start\n",
    "print(\"Training completed in time: \", duration)\n"
   ]
  },
  {
   "cell_type": "code",
   "execution_count": 18,
   "id": "4feebd9e-92a7-4f48-908e-aeb8334d04b7",
   "metadata": {},
   "outputs": [
    {
     "name": "stderr",
     "output_type": "stream",
     "text": [
      "/opt/conda/lib/python3.7/site-packages/ipykernel_launcher.py:7: UserWarning: `Model.evaluate_generator` is deprecated and will be removed in a future version. Please use `Model.evaluate`, which supports generators.\n",
      "  import sys\n"
     ]
    },
    {
     "name": "stdout",
     "output_type": "stream",
     "text": [
      "42/42 [==============================] - 358s 8s/step - loss: 0.0500 - auc: 0.7634\n",
      " Test loss and accuracy are [0.05001752823591232, 0.7634480595588684]\n"
     ]
    }
   ],
   "source": [
    "#load best model\n",
    "from keras.models import load_model\n",
    "\n",
    "# Load best fit model\n",
    "focalloss_model = load_model('InceptionResNetV2_focalloss_AUC_model1.h5')\n",
    "\n",
    "results = focalloss_model.evaluate_generator(generator=test_generator,verbose = 1)\n",
    "print(\" Test loss and accuracy are\", results)"
   ]
  },
  {
   "cell_type": "code",
   "execution_count": 19,
   "id": "97b07944-cb50-4dc3-bf6d-a53303ec81cc",
   "metadata": {},
   "outputs": [
    {
     "name": "stdout",
     "output_type": "stream",
     "text": [
      "42/42 [==============================] - 245s 6s/step\n",
      "[[0.01859336]\n",
      " [0.02379889]\n",
      " [0.01637494]\n",
      " ...\n",
      " [0.05362985]\n",
      " [0.01252057]\n",
      " [0.06991544]]\n"
     ]
    }
   ],
   "source": [
    "focal_pred = focalloss_model.predict(test_generator,verbose = 1)\n",
    "print(focal_pred)"
   ]
  },
  {
   "cell_type": "code",
   "execution_count": 20,
   "id": "be5ebafe-7d8e-42f7-b6ed-1dd0e4a9d776",
   "metadata": {},
   "outputs": [
    {
     "data": {
      "image/png": "[encoded data removed]",
      "text/plain": [
       "<Figure size 640x480 with 1 Axes>"
      ]
     },
     "metadata": {},
     "output_type": "display_data"
    },
    {
     "name": "stdout",
     "output_type": "stream",
     "text": [
      "Area under curve, AUC =  0.7642899763775022\n"
     ]
    }
   ],
   "source": [
    "from sklearn.metrics import roc_curve\n",
    "\n",
    "\n",
    "fpr, tpr, thresholds = roc_curve(test_gen.target, focal_pred)\n",
    "plt.figure(1)\n",
    "plt.plot([0, 1], [0, 1], 'k--')\n",
    "plt.plot(fpr, tpr, linewidth = 2, label = None)\n",
    "plt.xlabel('False positive rate')\n",
    "plt.ylabel('True positive rate')\n",
    "plt.title('ROC curve')\n",
    "plt.show()\n",
    "\n",
    "from sklearn.metrics import auc\n",
    "auc_value = auc(fpr, tpr)\n",
    "print(\"Area under curve, AUC = \", auc_value)"
   ]
  },
  {
   "cell_type": "code",
   "execution_count": 12,
   "id": "cc882fca-cf7d-4aea-b2e0-4ae64688c115",
   "metadata": {},
   "outputs": [
    {
     "name": "stdout",
     "output_type": "stream",
     "text": [
      "Found 2650 validated image filenames.\n"
     ]
    }
   ],
   "source": [
    "test_generator = test_datagen.flow_from_dataframe(\n",
    "    test_gen,\n",
    "    x_col='image_dir',\n",
    "    y_col='target',\n",
    "    target_size=(224, 224),\n",
    "    batch_size=64,\n",
    "    class_mode='raw',\n",
    "    shuffle=False\n",
    ")"
   ]
  },
  {
   "cell_type": "code",
   "execution_count": 13,
   "id": "82158a85-73ab-4126-95ff-d4ef36d9accc",
   "metadata": {},
   "outputs": [
    {
     "name": "stdout",
     "output_type": "stream",
     "text": [
      "Found 10982 images belonging to 1 classes.\n"
     ]
    }
   ],
   "source": [
    "\n",
    "kaggle_test_path='./melanoma-image-data/test/test'\n",
    "test_set_kaggle = test_datagen.flow_from_directory(kaggle_test_path,\n",
    "                                             target_size = (224,224),\n",
    "                                             batch_size = 64,\n",
    "                                             class_mode = 'categorical',\n",
    "                                             shuffle=False)\n",
    "\n",
    "test_set_kaggle.reset()"
   ]
  },
  {
   "cell_type": "code",
   "execution_count": 23,
   "id": "08c3ca15-479b-4746-a527-5cc56e1d71cb",
   "metadata": {},
   "outputs": [
    {
     "name": "stderr",
     "output_type": "stream",
     "text": [
      "/opt/conda/lib/python3.7/site-packages/ipykernel_launcher.py:1: UserWarning: `Model.predict_generator` is deprecated and will be removed in a future version. Please use `Model.predict`, which supports generators.\n",
      "  \"\"\"Entry point for launching an IPython kernel.\n"
     ]
    },
    {
     "name": "stdout",
     "output_type": "stream",
     "text": [
      "172/172 [==============================] - 1065s 6s/step\n",
      "[[0.00881885]\n",
      " [0.01950783]\n",
      " [0.00527181]\n",
      " ...\n",
      " [0.36966798]\n",
      " [0.01469972]\n",
      " [0.13293007]]\n"
     ]
    }
   ],
   "source": [
    "kaggle_pred_test = focalloss_model.predict_generator(test_set_kaggle,verbose=1)\n",
    "print(kaggle_pred_test)"
   ]
  },
  {
   "cell_type": "code",
   "execution_count": 24,
   "id": "5781e3f5-5abc-46a0-8a58-425aa9e4bea2",
   "metadata": {},
   "outputs": [],
   "source": [
    "# Malignent Prediction\n",
    "imbalanced_predict_malignent=[]\n",
    "for i in range(len(kaggle_pred_test)):\n",
    "    imbalanced_predict_malignent.append(kaggle_pred_test[i]) \n",
    "\n",
    "#print(imbalanced_predict_class_kaggle)\n",
    "imbalanced_np_malignent=np.asarray(imbalanced_predict_malignent, dtype=None)\n",
    "imbalanced_np_malignent=imbalanced_np_malignent.ravel()"
   ]
  },
  {
   "cell_type": "code",
   "execution_count": 25,
   "id": "25730c9a-b6fe-4435-b3e1-4aeabe5da5fc",
   "metadata": {},
   "outputs": [],
   "source": [
    "import pandas as pd\n",
    "filenames=test_set_kaggle.filenames\n",
    "results=pd.DataFrame({\"image_name\":filenames,\n",
    "                      \"target\":imbalanced_np_malignent})\n",
    "results.to_csv(\"ResNet_focalLoss_Result.csv\",index=False)"
   ]
  },
  {
   "cell_type": "code",
   "execution_count": null,
   "id": "3f4ba165-7880-495f-8a3d-2666480ee8b6",
   "metadata": {},
   "outputs": [],
   "source": []
  },
  {
   "cell_type": "code",
   "execution_count": 15,
   "id": "7d2f4308-14bc-4b4e-923b-1b89ddce81c9",
   "metadata": {},
   "outputs": [
    {
     "data": {
      "text/plain": [
       "{0: 0.5089628681177977, 1: 28.392857142857142}"
      ]
     },
     "execution_count": 15,
     "metadata": {},
     "output_type": "execute_result"
    }
   ],
   "source": [
    "train_classes=y_train\n",
    "from sklearn.utils import compute_class_weight\n",
    "\n",
    "class_weights = compute_class_weight(\n",
    "                                        class_weight = 'balanced',\n",
    "                                        classes = np.unique(train_classes),\n",
    "                                        y = train_classes\n",
    ") \n",
    "class_weights = dict(zip(np.unique(train_classes),class_weights))\n",
    "class_weights"
   ]
  },
  {
   "cell_type": "code",
   "execution_count": 18,
   "id": "4a9664b2-4527-4739-99da-6493b5afe4ce",
   "metadata": {},
   "outputs": [
    {
     "name": "stderr",
     "output_type": "stream",
     "text": [
      "/opt/conda/lib/python3.7/site-packages/ipykernel_launcher.py:27: UserWarning: `Model.fit_generator` is deprecated and will be removed in a future version. Please use `Model.fit`, which supports generators.\n"
     ]
    },
    {
     "name": "stdout",
     "output_type": "stream",
     "text": [
      "Epoch 1/30\n",
      "128/128 [==============================] - 1729s 14s/step - loss: 0.5094 - auc: 0.6449 - val_loss: 0.3168 - val_auc: 0.7897\n",
      "Epoch 2/30\n",
      "128/128 [==============================] - 1522s 12s/step - loss: 0.4709 - auc: 0.6892 - val_loss: 0.3866 - val_auc: 0.7845\n",
      "Epoch 3/30\n",
      "128/128 [==============================] - 1413s 11s/step - loss: 0.4918 - auc: 0.7213 - val_loss: 0.1227 - val_auc: 0.7918\n",
      "Epoch 4/30\n",
      "128/128 [==============================] - 1368s 11s/step - loss: 0.5455 - auc: 0.7306 - val_loss: 0.3141 - val_auc: 0.8307\n",
      "Epoch 5/30\n",
      "128/128 [==============================] - 1346s 11s/step - loss: 0.4748 - auc: 0.7402 - val_loss: 0.3678 - val_auc: 0.8111\n",
      "Epoch 6/30\n",
      "128/128 [==============================] - 1331s 10s/step - loss: 0.4505 - auc: 0.7327 - val_loss: 0.0934 - val_auc: 0.8181\n",
      "Epoch 7/30\n",
      "128/128 [==============================] - 1327s 10s/step - loss: 0.6151 - auc: 0.7258 - val_loss: 0.1312 - val_auc: 0.8150\n",
      "Training completed in time:  2:48:20.723288\n"
     ]
    }
   ],
   "source": [
    "from datetime import datetime\n",
    "from keras.callbacks import ModelCheckpoint,EarlyStopping\n",
    "\n",
    "\n",
    "\n",
    "mc = ModelCheckpoint(filepath='InceptionResNetV2_weighted_AUC_model1.h5',\n",
    "                     monitor='val_auc',  # even use the generated handle for monitoring the training AUC\n",
    "                     save_best_only=True,\n",
    "                     mode='max')\n",
    "\n",
    "#Early stopping\n",
    "es = EarlyStopping(monitor = 'val_auc', patience = 3, mode='max',min_delta = 0.01)\n",
    "\n",
    "callbacks = [mc,es]\n",
    "\n",
    "start = datetime.now()\n",
    "\n",
    "\n",
    "model.fit_generator(\n",
    "    train_generator,\n",
    "    steps_per_epoch=128,\n",
    "    epochs=30,\n",
    "    validation_data=validation_generator,\n",
    "    callbacks=callbacks,\n",
    "    validation_steps=64,\n",
    "    class_weight=class_weights,\n",
    "     verbose=1\n",
    "\n",
    ")\n",
    "\n",
    "\n",
    "\n",
    "duration = datetime.now() - start\n",
    "print(\"Training completed in time: \", duration)\n"
   ]
  },
  {
   "cell_type": "code",
   "execution_count": 21,
   "id": "1b15ac6b-1093-4b29-be0f-b9621a9029b1",
   "metadata": {},
   "outputs": [
    {
     "name": "stderr",
     "output_type": "stream",
     "text": [
      "/opt/conda/lib/python3.7/site-packages/ipykernel_launcher.py:7: UserWarning: `Model.evaluate_generator` is deprecated and will be removed in a future version. Please use `Model.evaluate`, which supports generators.\n",
      "  import sys\n"
     ]
    },
    {
     "name": "stdout",
     "output_type": "stream",
     "text": [
      "42/42 [==============================] - 260s 6s/step - loss: 0.3435 - auc: 0.8093\n",
      " Test loss and accuracy are [0.3434715270996094, 0.8092749118804932]\n"
     ]
    }
   ],
   "source": [
    "#load best model\n",
    "from keras.models import load_model\n",
    "\n",
    "# Load best fit model\n",
    "weighted_model = load_model('InceptionResNetV2_weighted_AUC_model1.h5')\n",
    "\n",
    "results = weighted_model.evaluate_generator(generator=test_generator,verbose = 1)\n",
    "print(\" Test loss and accuracy are\", results)"
   ]
  },
  {
   "cell_type": "code",
   "execution_count": 22,
   "id": "a7c5b820-331a-49a9-b194-82311a60cddc",
   "metadata": {},
   "outputs": [
    {
     "name": "stdout",
     "output_type": "stream",
     "text": [
      "42/42 [==============================] - 261s 6s/step\n",
      "[[0.2576631 ]\n",
      " [0.03901874]\n",
      " [0.02310927]\n",
      " ...\n",
      " [0.36081132]\n",
      " [0.04120907]\n",
      " [0.65676683]]\n"
     ]
    }
   ],
   "source": [
    "balanced_pred = weighted_model.predict(test_generator,verbose = 1)\n",
    "print(balanced_pred)"
   ]
  },
  {
   "cell_type": "code",
   "execution_count": 23,
   "id": "7c861cfa-0cba-434d-aa65-61fc6e7d981f",
   "metadata": {},
   "outputs": [
    {
     "data": {
      "image/png": "[encoded data removed]",
      "text/plain": [
       "<Figure size 640x480 with 1 Axes>"
      ]
     },
     "metadata": {},
     "output_type": "display_data"
    },
    {
     "name": "stdout",
     "output_type": "stream",
     "text": [
      "Area under curve, AUC =  0.8093525473880383\n"
     ]
    }
   ],
   "source": [
    "from sklearn.metrics import roc_curve\n",
    "\n",
    "\n",
    "fpr, tpr, thresholds = roc_curve(test_gen.target, balanced_pred)\n",
    "plt.figure(1)\n",
    "plt.plot([0, 1], [0, 1], 'y--')\n",
    "plt.plot(fpr, tpr, marker='.')\n",
    "plt.xlabel('False positive rate')\n",
    "plt.ylabel('True positive rate')\n",
    "plt.title('ROC curve')\n",
    "plt.show()\n",
    "\n",
    "from sklearn.metrics import auc\n",
    "auc_value = auc(fpr, tpr)\n",
    "print(\"Area under curve, AUC = \", auc_value)"
   ]
  },
  {
   "cell_type": "markdown",
   "id": "fc550351-ec59-431f-93c4-992788e48c36",
   "metadata": {},
   "source": [
    "# Model with average / sum Ensemble"
   ]
  },
  {
   "cell_type": "code",
   "execution_count": 26,
   "id": "be71cc2f-377a-4b39-abbb-8a4b319459e6",
   "metadata": {},
   "outputs": [
    {
     "name": "stdout",
     "output_type": "stream",
     "text": [
      "42/42 [==============================] - 264s 6s/step\n",
      "42/42 [==============================] - 261s 6s/step\n"
     ]
    },
    {
     "ename": "NameError",
     "evalue": "name 'preds' is not defined",
     "output_type": "error",
     "traceback": [
      "\u001b[0;31m---------------------------------------------------------------------------\u001b[0m",
      "\u001b[0;31mNameError\u001b[0m                                 Traceback (most recent call last)",
      "\u001b[0;32m/var/tmp/ipykernel_15488/3060125259.py\u001b[0m in \u001b[0;36m<module>\u001b[0;34m\u001b[0m\n\u001b[1;32m      8\u001b[0m \u001b[0;34m\u001b[0m\u001b[0m\n\u001b[1;32m      9\u001b[0m \u001b[0mensemble_pred\u001b[0m \u001b[0;34m=\u001b[0m \u001b[0;34m[\u001b[0m\u001b[0mmodel\u001b[0m\u001b[0;34m.\u001b[0m\u001b[0mpredict\u001b[0m\u001b[0;34m(\u001b[0m\u001b[0mtest_generator\u001b[0m\u001b[0;34m)\u001b[0m \u001b[0;32mfor\u001b[0m \u001b[0mmodel\u001b[0m \u001b[0;32min\u001b[0m \u001b[0mmodels\u001b[0m\u001b[0;34m]\u001b[0m\u001b[0;34m\u001b[0m\u001b[0;34m\u001b[0m\u001b[0m\n\u001b[0;32m---> 10\u001b[0;31m \u001b[0mpreds\u001b[0m\u001b[0;34m=\u001b[0m\u001b[0mnp\u001b[0m\u001b[0;34m.\u001b[0m\u001b[0marray\u001b[0m\u001b[0;34m(\u001b[0m\u001b[0mpreds\u001b[0m\u001b[0;34m)\u001b[0m\u001b[0;34m\u001b[0m\u001b[0;34m\u001b[0m\u001b[0m\n\u001b[0m",
      "\u001b[0;31mNameError\u001b[0m: name 'preds' is not defined"
     ]
    }
   ],
   "source": [
    "from keras.models import load_model\n",
    "from sklearn.metrics import accuracy_score\n",
    "\n",
    "model1 = load_model('InceptionResNetV2_focalloss_AUC_model1.h5')\n",
    "model2 = load_model('InceptionResNetV2_weighted_AUC_model1.h5')\n",
    "\n",
    "models = [model1, model2]\n",
    "\n",
    "ensemble_pred = [model.predict(test_generator) for model in models]\n",
    "\n"
   ]
  },
  {
   "cell_type": "code",
   "execution_count": 28,
   "id": "a427ca50-d745-4515-a631-418601eb0f39",
   "metadata": {},
   "outputs": [],
   "source": [
    "ensemble_pred=np.array(ensemble_pred)"
   ]
  },
  {
   "cell_type": "code",
   "execution_count": 61,
   "id": "c6c77a24-fe1e-4ca3-b7c2-b52acecc93b8",
   "metadata": {},
   "outputs": [],
   "source": [
    "weights = [0.2, 0.8]"
   ]
  },
  {
   "cell_type": "code",
   "execution_count": 62,
   "id": "ca4e3fa7-bcc3-49ab-8a4b-3c64b306beef",
   "metadata": {},
   "outputs": [
    {
     "name": "stdout",
     "output_type": "stream",
     "text": [
      "[0.20984915 0.03597477 0.02176241 ... 0.29937503 0.03547137 0.53939655]\n"
     ]
    }
   ],
   "source": [
    "weighted_preds = np.tensordot(ensemble_pred, weights, axes=((0),(0)))\n",
    "weighted_ensemble_prediction = np.average(weighted_preds, axis=1)\n",
    "print(weighted_ensemble_prediction)"
   ]
  },
  {
   "cell_type": "code",
   "execution_count": 63,
   "id": "fd8903e4-3369-4fe1-8c2a-aeb65576a248",
   "metadata": {},
   "outputs": [
    {
     "data": {
      "image/png": "[encoded data removed]",
      "text/plain": [
       "<Figure size 640x480 with 1 Axes>"
      ]
     },
     "metadata": {},
     "output_type": "display_data"
    },
    {
     "name": "stdout",
     "output_type": "stream",
     "text": [
      "Area under curve, AUC =  0.8154257362617602\n"
     ]
    }
   ],
   "source": [
    "from sklearn.metrics import roc_curve\n",
    "\n",
    "\n",
    "fpr, tpr, thresholds = roc_curve(test_gen.target, weighted_ensemble_prediction)\n",
    "plt.figure(1)\n",
    "plt.plot([0, 1], [0, 1], 'y--')\n",
    "plt.plot(fpr, tpr, marker='.')\n",
    "plt.xlabel('False positive rate')\n",
    "plt.ylabel('True positive rate')\n",
    "plt.title('ROC curve')\n",
    "plt.show()\n",
    "\n",
    "from sklearn.metrics import auc\n",
    "auc_value = auc(fpr, tpr)\n",
    "print(\"Area under curve, AUC = \", auc_value)"
   ]
  },
  {
   "cell_type": "code",
   "execution_count": 64,
   "id": "8ac4974b-116a-411b-9604-93dc21dd1389",
   "metadata": {},
   "outputs": [
    {
     "data": {
      "text/plain": [
       "array([0., 0., 0., ..., 0., 0., 1.])"
      ]
     },
     "execution_count": 64,
     "metadata": {},
     "output_type": "execute_result"
    }
   ],
   "source": [
    "balanced_pred_conf=weighted_ensemble_prediction\n",
    "for i in range(len(balanced_pred_conf)):\n",
    "    if (balanced_pred_conf[i]>0.5):\n",
    "        balanced_pred_conf[i] = 1\n",
    "    else:\n",
    "        balanced_pred_conf[i] = 0\n",
    "balanced_pred_conf"
   ]
  },
  {
   "cell_type": "code",
   "execution_count": 65,
   "id": "fe805b26-631e-4cb4-9744-ef19b11a1c6d",
   "metadata": {},
   "outputs": [
    {
     "data": {
      "text/plain": [
       "<AxesSubplot:>"
      ]
     },
     "execution_count": 65,
     "metadata": {},
     "output_type": "execute_result"
    },
    {
     "data": {
      "image/png": "[encoded data removed]",
      "text/plain": [
       "<Figure size 600x600 with 2 Axes>"
      ]
     },
     "metadata": {},
     "output_type": "display_data"
    }
   ],
   "source": [
    "import seaborn as sns\n",
    "from sklearn.metrics import confusion_matrix, classification_report\n",
    "cm = confusion_matrix(y_test_conf, balanced_pred_conf)\n",
    "\n",
    "fig, ax = plt.subplots(figsize=(6,6))\n",
    "sns.set(font_scale=1.6)\n",
    "sns.heatmap(cm, annot=True, linewidths=.5, ax=ax)"
   ]
  },
  {
   "cell_type": "code",
   "execution_count": 14,
   "id": "f98cf905-fb9a-417e-a109-072696a8d926",
   "metadata": {},
   "outputs": [],
   "source": [
    "from keras.models import load_model\n",
    "from sklearn.metrics import accuracy_score\n",
    "\n",
    "model1 = load_model('InceptionResNetV2_focalloss_AUC_model1.h5')\n",
    "model2 = load_model('InceptionResNetV2_weighted_AUC_model1.h5')\n",
    "\n",
    "models = [model1, model2]"
   ]
  },
  {
   "cell_type": "code",
   "execution_count": 15,
   "id": "07466c19-6e5e-4bb3-a1b1-297492e18bb8",
   "metadata": {},
   "outputs": [
    {
     "name": "stdout",
     "output_type": "stream",
     "text": [
      "172/172 [==============================] - 1743s 10s/step\n",
      "172/172 [==============================] - 1681s 10s/step\n",
      "[0.0233654  0.02630687 0.42722657 ... 0.58464088 0.11424077 0.06703029]\n"
     ]
    }
   ],
   "source": [
    "\n",
    "kaggle_pred_test= [model.predict(test_set_kaggle,verbose=1) for model in models]\n",
    "kaggle_pred_test=np.array(kaggle_pred_test)\n",
    "\n",
    "weights = [0.2, 0.8]\n",
    "weighted_preds = np.tensordot(kaggle_pred_test, weights, axes=((0),(0)))\n",
    "weighted_ensemble_prediction = np.average(weighted_preds, axis=1)\n",
    "print(weighted_ensemble_prediction)\n"
   ]
  },
  {
   "cell_type": "code",
   "execution_count": 16,
   "id": "b772cb66-a07e-4adc-8b44-3a1d4278fab9",
   "metadata": {},
   "outputs": [],
   "source": [
    "ensemble_predict_malignent=np.asarray(weighted_ensemble_prediction, dtype=None)\n",
    "ensemble_predict_malignent=ensemble_predict_malignent.ravel()\n",
    "\n",
    "import pandas as pd\n",
    "filenames=test_set_kaggle.filenames\n",
    "results=pd.DataFrame({\"image_name\":filenames,\n",
    "                      \"target\":ensemble_predict_malignent})\n",
    "results.to_csv(\"Inception_Ensemble_results_final.csv\",index=False)"
   ]
  },
  {
   "cell_type": "code",
   "execution_count": null,
   "id": "b08fa08d-94d7-418b-a18c-f711d7652c71",
   "metadata": {},
   "outputs": [],
   "source": []
  }
 ],
 "metadata": {
  "environment": {
   "kernel": "python3",
   "name": "common-cpu.m103",
   "type": "gcloud",
   "uri": "gcr.io/deeplearning-platform-release/base-cpu:m103"
  },
  "kernelspec": {
   "display_name": "Python 3",
   "language": "python",
   "name": "python3"
  },
  "language_info": {
   "codemirror_mode": {
    "name": "ipython",
    "version": 3
   },
   "file_extension": ".py",
   "mimetype": "text/x-python",
   "name": "python",
   "nbconvert_exporter": "python",
   "pygments_lexer": "ipython3",
   "version": "3.7.12"
  }
 },
 "nbformat": 4,
 "nbformat_minor": 5
}
